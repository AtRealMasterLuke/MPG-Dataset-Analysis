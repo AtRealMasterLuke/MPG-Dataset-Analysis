{
 "cells": [
  {
   "cell_type": "markdown",
   "id": "5ed2cea2-386c-4ba0-bd21-45b8fd942da6",
   "metadata": {},
   "source": [
    "**IMPORT THE NECESSARY LIBRARIES**"
   ]
  },
  {
   "cell_type": "code",
   "execution_count": 7,
   "id": "3e9111cd-3ea1-409b-a38a-db303d6ba92f",
   "metadata": {},
   "outputs": [],
   "source": [
    "import pandas as pd\n",
    "import numpy as np\n",
    "import seaborn as sns\n",
    "import matplotlib.pyplot as plt\n",
    "import warnings"
   ]
  },
  {
   "cell_type": "markdown",
   "id": "736bec79-1c66-4f02-804e-234f6ee28232",
   "metadata": {},
   "source": [
    "*Suppress the warnings*"
   ]
  },
  {
   "cell_type": "code",
   "execution_count": 9,
   "id": "c8f878ff-c04e-4dc0-8ca0-5e8c97e64a2e",
   "metadata": {},
   "outputs": [],
   "source": [
    "warnings.filterwarnings(\"ignore\")"
   ]
  },
  {
   "cell_type": "code",
   "execution_count": 10,
   "id": "ca3d246e-4fb8-4ff2-8c15-f16fbf24ddeb",
   "metadata": {},
   "outputs": [],
   "source": [
    "# Load the dataset\n",
    "df = sns.load_dataset(\"mpg\")"
   ]
  },
  {
   "cell_type": "code",
   "execution_count": 14,
   "id": "2f2c02c5-f1e3-4d25-b32a-3d8a5065758a",
   "metadata": {},
   "outputs": [
    {
     "name": "stdout",
     "output_type": "stream",
     "text": [
      "    mpg  cylinders  displacement  horsepower  weight  acceleration  \\\n",
      "0  18.0          8         307.0       130.0    3504          12.0   \n",
      "1  15.0          8         350.0       165.0    3693          11.5   \n",
      "2  18.0          8         318.0       150.0    3436          11.0   \n",
      "3  16.0          8         304.0       150.0    3433          12.0   \n",
      "4  17.0          8         302.0       140.0    3449          10.5   \n",
      "\n",
      "   model_year origin                       name  \n",
      "0          70    usa  chevrolet chevelle malibu  \n",
      "1          70    usa          buick skylark 320  \n",
      "2          70    usa         plymouth satellite  \n",
      "3          70    usa              amc rebel sst  \n",
      "4          70    usa                ford torino  \n"
     ]
    }
   ],
   "source": [
    "# Display the first few rows of the dataset\n",
    "print(df.head())"
   ]
  },
  {
   "cell_type": "markdown",
   "id": "389b7ca8-0aef-4369-b1c8-27542d37bc2a",
   "metadata": {},
   "source": [
    "**PERFORM EDA**"
   ]
  },
  {
   "cell_type": "code",
   "execution_count": 17,
   "id": "015dff35-b49d-44b0-8454-5c709c4997f8",
   "metadata": {},
   "outputs": [
    {
     "name": "stdout",
     "output_type": "stream",
     "text": [
      "\n",
      "Dataset Information:\n",
      "<class 'pandas.core.frame.DataFrame'>\n",
      "RangeIndex: 398 entries, 0 to 397\n",
      "Data columns (total 9 columns):\n",
      " #   Column        Non-Null Count  Dtype  \n",
      "---  ------        --------------  -----  \n",
      " 0   mpg           398 non-null    float64\n",
      " 1   cylinders     398 non-null    int64  \n",
      " 2   displacement  398 non-null    float64\n",
      " 3   horsepower    392 non-null    float64\n",
      " 4   weight        398 non-null    int64  \n",
      " 5   acceleration  398 non-null    float64\n",
      " 6   model_year    398 non-null    int64  \n",
      " 7   origin        398 non-null    object \n",
      " 8   name          398 non-null    object \n",
      "dtypes: float64(4), int64(3), object(2)\n",
      "memory usage: 28.1+ KB\n"
     ]
    }
   ],
   "source": [
    "print(\"\\nDataset Information:\")\n",
    "df.info()"
   ]
  },
  {
   "cell_type": "code",
   "execution_count": 19,
   "id": "59c0a1ef-03f3-4c97-91a3-afca33a2293e",
   "metadata": {},
   "outputs": [],
   "source": [
    "# Note the horsepower column. It has missing values"
   ]
  },
  {
   "cell_type": "code",
   "execution_count": 21,
   "id": "43fe7d79-766f-4a0a-b54f-9215f87f8d20",
   "metadata": {},
   "outputs": [],
   "source": [
    "# Remove columns that won't help in determining the mpg variable\n",
    "columns_to_drop = [\"name\"]\n",
    "df.drop(columns=columns_to_drop, axis=1, inplace=True)"
   ]
  },
  {
   "cell_type": "code",
   "execution_count": 23,
   "id": "db3071e5-882f-4251-8e4b-ffd88a76585e",
   "metadata": {},
   "outputs": [
    {
     "name": "stdout",
     "output_type": "stream",
     "text": [
      "\n",
      "Updated DataFrame:\n",
      "    mpg  cylinders  displacement  horsepower  weight  acceleration  \\\n",
      "0  18.0          8         307.0       130.0    3504          12.0   \n",
      "1  15.0          8         350.0       165.0    3693          11.5   \n",
      "2  18.0          8         318.0       150.0    3436          11.0   \n",
      "3  16.0          8         304.0       150.0    3433          12.0   \n",
      "4  17.0          8         302.0       140.0    3449          10.5   \n",
      "\n",
      "   model_year origin  \n",
      "0          70    usa  \n",
      "1          70    usa  \n",
      "2          70    usa  \n",
      "3          70    usa  \n",
      "4          70    usa  \n"
     ]
    }
   ],
   "source": [
    "# Display the updated dataframe\n",
    "print(\"\\nUpdated DataFrame:\")\n",
    "print(df.head())"
   ]
  },
  {
   "cell_type": "code",
   "execution_count": 25,
   "id": "6407deec-b8fc-4269-bfbb-88fee28bfb39",
   "metadata": {},
   "outputs": [
    {
     "name": "stdout",
     "output_type": "stream",
     "text": [
      "\n",
      "Descriptive Statistics:\n",
      "              mpg   cylinders  displacement  horsepower       weight  \\\n",
      "count  398.000000  398.000000    398.000000  392.000000   398.000000   \n",
      "mean    23.514573    5.454774    193.425879  104.469388  2970.424623   \n",
      "std      7.815984    1.701004    104.269838   38.491160   846.841774   \n",
      "min      9.000000    3.000000     68.000000   46.000000  1613.000000   \n",
      "25%     17.500000    4.000000    104.250000   75.000000  2223.750000   \n",
      "50%     23.000000    4.000000    148.500000   93.500000  2803.500000   \n",
      "75%     29.000000    8.000000    262.000000  126.000000  3608.000000   \n",
      "max     46.600000    8.000000    455.000000  230.000000  5140.000000   \n",
      "\n",
      "       acceleration  model_year  \n",
      "count    398.000000  398.000000  \n",
      "mean      15.568090   76.010050  \n",
      "std        2.757689    3.697627  \n",
      "min        8.000000   70.000000  \n",
      "25%       13.825000   73.000000  \n",
      "50%       15.500000   76.000000  \n",
      "75%       17.175000   79.000000  \n",
      "max       24.800000   82.000000  \n"
     ]
    }
   ],
   "source": [
    "# Descriptive statistics of the dataframe\n",
    "print(\"\\nDescriptive Statistics:\")\n",
    "print(df.describe())"
   ]
  },
  {
   "cell_type": "markdown",
   "id": "af419de1-92a9-4e21-8811-8394e1279320",
   "metadata": {},
   "source": [
    "**Skewness** *of variables*"
   ]
  },
  {
   "cell_type": "markdown",
   "id": "db5ff195-30ac-49b1-98c9-6f9bb8f578a5",
   "metadata": {},
   "source": [
    "*1. MPG Varaible*"
   ]
  },
  {
   "cell_type": "code",
   "execution_count": 29,
   "id": "5ff3494c-4928-4242-aeae-b6df9ee503d6",
   "metadata": {},
   "outputs": [
    {
     "name": "stdout",
     "output_type": "stream",
     "text": [
      "\n",
      "Median MPG: 23.0\n"
     ]
    }
   ],
   "source": [
    "# Calculate median\n",
    "median_mpg = df['mpg'].median()\n",
    "print(\"\\nMedian MPG:\", median_mpg)"
   ]
  },
  {
   "cell_type": "code",
   "execution_count": 31,
   "id": "c0fff7f4-c40d-45a9-bd83-88ea25ea574a",
   "metadata": {},
   "outputs": [
    {
     "name": "stdout",
     "output_type": "stream",
     "text": [
      "Mean MPG: 23.514572864321607\n"
     ]
    }
   ],
   "source": [
    "# Calculate mean\n",
    "mean_mpg = df['mpg'].mean()\n",
    "print(\"Mean MPG:\", mean_mpg)"
   ]
  },
  {
   "cell_type": "code",
   "execution_count": 33,
   "id": "d5309668-b569-4a90-8bf8-0bb60147de4e",
   "metadata": {},
   "outputs": [],
   "source": [
    "# The mean is slightly higher than the median, suggesting right-skewed data"
   ]
  },
  {
   "cell_type": "code",
   "execution_count": 35,
   "id": "5436bcae-1636-4372-84a9-27fe38a15176",
   "metadata": {},
   "outputs": [
    {
     "data": {
      "image/png": "[encoded data removed]",
      "text/plain": [
       "<Figure size 1000x600 with 1 Axes>"
      ]
     },
     "metadata": {},
     "output_type": "display_data"
    }
   ],
   "source": [
    "# Plot the distribution\n",
    "plt.figure(figsize=(10, 6))\n",
    "sns.histplot(df['mpg'], kde=True)\n",
    "plt.title('MPG Distribution')\n",
    "plt.xlabel('MPG')\n",
    "plt.ylabel('Frequency')\n",
    "plt.show()"
   ]
  },
  {
   "cell_type": "code",
   "execution_count": 37,
   "id": "014d28e1-b1fe-4145-8e47-fbf16cd74b30",
   "metadata": {},
   "outputs": [
    {
     "name": "stdout",
     "output_type": "stream",
     "text": [
      "Standard Deviation of MPG: 7.815984312565782\n"
     ]
    }
   ],
   "source": [
    "# Calculate standard deviation\n",
    "std_mpg = df['mpg'].std()\n",
    "print(\"Standard Deviation of MPG:\", std_mpg)"
   ]
  },
  {
   "cell_type": "code",
   "execution_count": 39,
   "id": "31df5d53-b9b7-46ff-b3ae-470c713ac930",
   "metadata": {},
   "outputs": [
    {
     "name": "stdout",
     "output_type": "stream",
     "text": [
      "Mode MPG: 13.0\n"
     ]
    }
   ],
   "source": [
    "# Calculate the mode\n",
    "mode_mpg = df['mpg'].mode().iloc[0]\n",
    "print(\"Mode MPG:\", mode_mpg)"
   ]
  },
  {
   "cell_type": "markdown",
   "id": "da73e389-e909-447d-831e-128d4a265c99",
   "metadata": {},
   "source": [
    "*Calculate Karl Pearson's coefficient of skewness*"
   ]
  },
  {
   "cell_type": "code",
   "execution_count": 42,
   "id": "6cadc600-5ff9-4585-a15e-ab0fe813eec9",
   "metadata": {},
   "outputs": [
    {
     "name": "stdout",
     "output_type": "stream",
     "text": [
      "Pearson's Skewness: 1.3452653490382902\n"
     ]
    }
   ],
   "source": [
    "pearson_skewness = (mean_mpg - mode_mpg) / std_mpg\n",
    "print(\"Pearson's Skewness:\", pearson_skewness)"
   ]
  },
  {
   "cell_type": "code",
   "execution_count": 44,
   "id": "e9467b0c-6358-4790-8173-6bb3ba8f3aae",
   "metadata": {},
   "outputs": [],
   "source": [
    "# This indicates that the data in the mpg variable is highly skewed to the right"
   ]
  },
  {
   "cell_type": "markdown",
   "id": "3676da18-14c6-40dd-917a-95e589bd9cb1",
   "metadata": {},
   "source": [
    "*2. Horsepower*"
   ]
  },
  {
   "cell_type": "code",
   "execution_count": 47,
   "id": "15c2b9c8-4873-45a5-8d19-bf41eac51a28",
   "metadata": {},
   "outputs": [
    {
     "name": "stdout",
     "output_type": "stream",
     "text": [
      "\n",
      "Median horsepower: 93.5\n"
     ]
    }
   ],
   "source": [
    "# Calculate median\n",
    "median_horsepower = df['horsepower'].median()\n",
    "print(\"\\nMedian horsepower:\", median_horsepower)"
   ]
  },
  {
   "cell_type": "code",
   "execution_count": 49,
   "id": "d98434f1-b6b4-4b96-ba5b-1ce13d7d4806",
   "metadata": {},
   "outputs": [
    {
     "name": "stdout",
     "output_type": "stream",
     "text": [
      "Mean horsepower: 104.46938775510205\n"
     ]
    }
   ],
   "source": [
    "# Calculate mean\n",
    "mean_horsepower = df['horsepower'].mean()\n",
    "print(\"Mean horsepower:\", mean_horsepower)"
   ]
  },
  {
   "cell_type": "code",
   "execution_count": 51,
   "id": "71f789f7-3772-41a3-92ac-57b6493a9d94",
   "metadata": {},
   "outputs": [],
   "source": [
    "# The mean is higher than the median, suggesting right-skewed data"
   ]
  },
  {
   "cell_type": "markdown",
   "id": "3eae4005-9433-4343-b08f-2f7bf4754652",
   "metadata": {},
   "source": [
    "**Data Preprocessing**"
   ]
  },
  {
   "cell_type": "code",
   "execution_count": 54,
   "id": "975f3842-20fb-4ffc-b483-12884017d442",
   "metadata": {},
   "outputs": [
    {
     "name": "stdout",
     "output_type": "stream",
     "text": [
      "\n",
      "Missing Values:\n",
      "mpg             0\n",
      "cylinders       0\n",
      "displacement    0\n",
      "horsepower      6\n",
      "weight          0\n",
      "acceleration    0\n",
      "model_year      0\n",
      "origin          0\n",
      "dtype: int64\n"
     ]
    }
   ],
   "source": [
    "# Check for the number of cells with missing values\n",
    "print(\"\\nMissing Values:\")\n",
    "print(df.isnull().sum())"
   ]
  },
  {
   "cell_type": "code",
   "execution_count": 56,
   "id": "fb2286a0-963a-40ee-8476-5de447b614a3",
   "metadata": {},
   "outputs": [
    {
     "name": "stdout",
     "output_type": "stream",
     "text": [
      "\n",
      "Rows with Missing Values:\n",
      "      mpg  cylinders  displacement  horsepower  weight  acceleration  \\\n",
      "32   25.0          4          98.0         NaN    2046          19.0   \n",
      "126  21.0          6         200.0         NaN    2875          17.0   \n",
      "330  40.9          4          85.0         NaN    1835          17.3   \n",
      "336  23.6          4         140.0         NaN    2905          14.3   \n",
      "354  34.5          4         100.0         NaN    2320          15.8   \n",
      "374  23.0          4         151.0         NaN    3035          20.5   \n",
      "\n",
      "     model_year  origin  \n",
      "32           71     usa  \n",
      "126          74     usa  \n",
      "330          80  europe  \n",
      "336          80     usa  \n",
      "354          81  europe  \n",
      "374          82     usa  \n"
     ]
    }
   ],
   "source": [
    "# Filter the dataframe to show rows that contain null values\n",
    "print(\"\\nRows with Missing Values:\")\n",
    "print(df[df.isnull().any(axis=1)])"
   ]
  },
  {
   "cell_type": "code",
   "execution_count": 58,
   "id": "dc0a4380-c125-491d-9191-dea436aeb706",
   "metadata": {},
   "outputs": [],
   "source": [
    "# Drop the rows that contain null values\n",
    "df.dropna(inplace=True)"
   ]
  },
  {
   "cell_type": "code",
   "execution_count": 60,
   "id": "efda6a5b-a51b-413b-ac94-0a85678bd3ca",
   "metadata": {},
   "outputs": [
    {
     "name": "stdout",
     "output_type": "stream",
     "text": [
      "\n",
      "Missing Values After Dropping Nulls:\n",
      "mpg             0\n",
      "cylinders       0\n",
      "displacement    0\n",
      "horsepower      0\n",
      "weight          0\n",
      "acceleration    0\n",
      "model_year      0\n",
      "origin          0\n",
      "dtype: int64\n"
     ]
    }
   ],
   "source": [
    "# Confirm that we have actually dropped the empty cells\n",
    "print(\"\\nMissing Values After Dropping Nulls:\")\n",
    "print(df.isnull().sum())"
   ]
  },
  {
   "cell_type": "code",
   "execution_count": 62,
   "id": "3cf7a494-a9ad-424f-ba00-07cc7209b044",
   "metadata": {},
   "outputs": [
    {
     "name": "stdout",
     "output_type": "stream",
     "text": [
      "\n",
      "Missing Values Present: False\n"
     ]
    }
   ],
   "source": [
    "# Alternatively, you could also do:\n",
    "missing_values_present = df.isnull().sum().any()\n",
    "print(\"\\nMissing Values Present:\", missing_values_present)"
   ]
  },
  {
   "cell_type": "markdown",
   "id": "9f2e28c6-cd83-4cfd-9eb0-a7bff0128c8d",
   "metadata": {},
   "source": [
    "**Univarate Analysis**"
   ]
  },
  {
   "cell_type": "markdown",
   "id": "bab1718b-a728-43b1-90f6-ca6d07710808",
   "metadata": {},
   "source": [
    "*Analysis of the cylinder variable*"
   ]
  },
  {
   "cell_type": "code",
   "execution_count": 66,
   "id": "49a15ae8-5025-4ddf-bfae-a3aaeed77c65",
   "metadata": {},
   "outputs": [
    {
     "name": "stdout",
     "output_type": "stream",
     "text": [
      "Unique values in 'cylinders': [8 4 6 3 5]\n",
      "Value counts of 'cylinders':\n",
      " cylinders\n",
      "4    199\n",
      "8    103\n",
      "6     83\n",
      "3      4\n",
      "5      3\n",
      "Name: count, dtype: int64\n"
     ]
    }
   ],
   "source": [
    "print(\"Unique values in 'cylinders':\", df.cylinders.unique())\n",
    "print(\"Value counts of 'cylinders':\\n\", df.cylinders.value_counts())"
   ]
  },
  {
   "cell_type": "code",
   "execution_count": 69,
   "id": "4f1f0ed4-ac21-4a60-a355-b624381655eb",
   "metadata": {},
   "outputs": [
    {
     "data": {
      "image/png": "[encoded data removed]",
      "text/plain": [
       "<Figure size 1500x800 with 1 Axes>"
      ]
     },
     "metadata": {},
     "output_type": "display_data"
    }
   ],
   "source": [
    "# Visualize 'cylinders' distribution\n",
    "plt.figure(figsize=(15, 8))\n",
    "sns.countplot(x=\"cylinders\", data=df, palette=\"cubehelix\")\n",
    "plt.title('Distribution of Cylinders')\n",
    "plt.xlabel('Cylinders')\n",
    "plt.ylabel('Count')\n",
    "plt.show()"
   ]
  },
  {
   "cell_type": "code",
   "execution_count": null,
   "id": "ed2a00af-e5f4-48b4-9b20-a5d1e49e8137",
   "metadata": {},
   "outputs": [],
   "source": [
    "# Vehicles with 4 cylinders have the highest observation value"
   ]
  },
  {
   "cell_type": "code",
   "execution_count": 72,
   "id": "824affa0-f09b-4764-8637-0d2eb3149654",
   "metadata": {},
   "outputs": [
    {
     "data": {
      "text/html": [
       "<div>\n",
       "<style scoped>\n",
       "    .dataframe tbody tr th:only-of-type {\n",
       "        vertical-align: middle;\n",
       "    }\n",
       "\n",
       "    .dataframe tbody tr th {\n",
       "        vertical-align: top;\n",
       "    }\n",
       "\n",
       "    .dataframe thead th {\n",
       "        text-align: right;\n",
       "    }\n",
       "</style>\n",
       "<table border=\"1\" class=\"dataframe\">\n",
       "  <thead>\n",
       "    <tr style=\"text-align: right;\">\n",
       "      <th></th>\n",
       "      <th>mpg</th>\n",
       "      <th>cylinders</th>\n",
       "      <th>displacement</th>\n",
       "      <th>horsepower</th>\n",
       "      <th>weight</th>\n",
       "      <th>acceleration</th>\n",
       "      <th>model_year</th>\n",
       "      <th>origin</th>\n",
       "    </tr>\n",
       "  </thead>\n",
       "  <tbody>\n",
       "    <tr>\n",
       "      <th>0</th>\n",
       "      <td>18.0</td>\n",
       "      <td>8</td>\n",
       "      <td>307.0</td>\n",
       "      <td>130.0</td>\n",
       "      <td>3504</td>\n",
       "      <td>12.0</td>\n",
       "      <td>70</td>\n",
       "      <td>usa</td>\n",
       "    </tr>\n",
       "    <tr>\n",
       "      <th>1</th>\n",
       "      <td>15.0</td>\n",
       "      <td>8</td>\n",
       "      <td>350.0</td>\n",
       "      <td>165.0</td>\n",
       "      <td>3693</td>\n",
       "      <td>11.5</td>\n",
       "      <td>70</td>\n",
       "      <td>usa</td>\n",
       "    </tr>\n",
       "    <tr>\n",
       "      <th>2</th>\n",
       "      <td>18.0</td>\n",
       "      <td>8</td>\n",
       "      <td>318.0</td>\n",
       "      <td>150.0</td>\n",
       "      <td>3436</td>\n",
       "      <td>11.0</td>\n",
       "      <td>70</td>\n",
       "      <td>usa</td>\n",
       "    </tr>\n",
       "    <tr>\n",
       "      <th>3</th>\n",
       "      <td>16.0</td>\n",
       "      <td>8</td>\n",
       "      <td>304.0</td>\n",
       "      <td>150.0</td>\n",
       "      <td>3433</td>\n",
       "      <td>12.0</td>\n",
       "      <td>70</td>\n",
       "      <td>usa</td>\n",
       "    </tr>\n",
       "    <tr>\n",
       "      <th>4</th>\n",
       "      <td>17.0</td>\n",
       "      <td>8</td>\n",
       "      <td>302.0</td>\n",
       "      <td>140.0</td>\n",
       "      <td>3449</td>\n",
       "      <td>10.5</td>\n",
       "      <td>70</td>\n",
       "      <td>usa</td>\n",
       "    </tr>\n",
       "  </tbody>\n",
       "</table>\n",
       "</div>"
      ],
      "text/plain": [
       "    mpg  cylinders  displacement  horsepower  weight  acceleration  \\\n",
       "0  18.0          8         307.0       130.0    3504          12.0   \n",
       "1  15.0          8         350.0       165.0    3693          11.5   \n",
       "2  18.0          8         318.0       150.0    3436          11.0   \n",
       "3  16.0          8         304.0       150.0    3433          12.0   \n",
       "4  17.0          8         302.0       140.0    3449          10.5   \n",
       "\n",
       "   model_year origin  \n",
       "0          70    usa  \n",
       "1          70    usa  \n",
       "2          70    usa  \n",
       "3          70    usa  \n",
       "4          70    usa  "
      ]
     },
     "execution_count": 72,
     "metadata": {},
     "output_type": "execute_result"
    }
   ],
   "source": [
    "df.head()"
   ]
  },
  {
   "cell_type": "markdown",
   "id": "1454b623-fdab-4768-be4b-0bc78c2b8eb1",
   "metadata": {},
   "source": [
    "*Analysis of the 'model_year' variable*"
   ]
  },
  {
   "cell_type": "code",
   "execution_count": 75,
   "id": "cb6d9382-ea2f-48eb-917b-0d1a696dc7a3",
   "metadata": {},
   "outputs": [
    {
     "name": "stdout",
     "output_type": "stream",
     "text": [
      "    mpg  cylinders  displacement  horsepower  weight  acceleration  \\\n",
      "0  18.0          8         307.0       130.0    3504          12.0   \n",
      "1  15.0          8         350.0       165.0    3693          11.5   \n",
      "2  18.0          8         318.0       150.0    3436          11.0   \n",
      "3  16.0          8         304.0       150.0    3433          12.0   \n",
      "4  17.0          8         302.0       140.0    3449          10.5   \n",
      "\n",
      "   model_year origin  \n",
      "0        1970    usa  \n",
      "1        1970    usa  \n",
      "2        1970    usa  \n",
      "3        1970    usa  \n",
      "4        1970    usa  \n"
     ]
    }
   ],
   "source": [
    "# Adjust the 'model_year' for better clarity\n",
    "df[\"model_year\"] = 1900 + df.model_year\n",
    "df.head()"
   ]
  },
  {
   "cell_type": "code",
   "execution_count": 78,
   "id": "002672d3-fbe9-42e9-99d0-43460d3f4c30",
   "metadata": {},
   "outputs": [
    {
     "data": {
      "image/png": "[encoded data removed]",
      "text/plain": [
       "<Figure size 1500x800 with 1 Axes>"
      ]
     },
     "metadata": {},
     "output_type": "display_data"
    }
   ],
   "source": [
    "# Visualize 'model_year' distribution\n",
    "plt.figure(figsize=(15, 8))\n",
    "sns.countplot(x=\"model_year\", data=df, palette=\"rainbow\")\n",
    "plt.title('Distribution of Model Year')\n",
    "plt.xlabel('Model Year')\n",
    "plt.ylabel('Count')\n",
    "plt.show()"
   ]
  },
  {
   "cell_type": "code",
   "execution_count": 83,
   "id": "cb926db4-16cd-4dbb-ab47-aa97ce7a1a55",
   "metadata": {},
   "outputs": [],
   "source": [
    "# The majority of the vehicles in the dataset are from the year 1973"
   ]
  },
  {
   "cell_type": "markdown",
   "id": "8aa01310-d9f6-4753-b316-ae92c3917e02",
   "metadata": {},
   "source": [
    "*Analysis of the 'origin' variable*"
   ]
  },
  {
   "cell_type": "code",
   "execution_count": 88,
   "id": "b9d8e6dc-c23a-4e99-83cd-5aec2ab241e3",
   "metadata": {},
   "outputs": [
    {
     "data": {
      "text/html": [
       "<div>\n",
       "<style scoped>\n",
       "    .dataframe tbody tr th:only-of-type {\n",
       "        vertical-align: middle;\n",
       "    }\n",
       "\n",
       "    .dataframe tbody tr th {\n",
       "        vertical-align: top;\n",
       "    }\n",
       "\n",
       "    .dataframe thead th {\n",
       "        text-align: right;\n",
       "    }\n",
       "</style>\n",
       "<table border=\"1\" class=\"dataframe\">\n",
       "  <thead>\n",
       "    <tr style=\"text-align: right;\">\n",
       "      <th></th>\n",
       "      <th>mpg</th>\n",
       "      <th>cylinders</th>\n",
       "      <th>displacement</th>\n",
       "      <th>horsepower</th>\n",
       "      <th>weight</th>\n",
       "      <th>acceleration</th>\n",
       "      <th>model_year</th>\n",
       "      <th>origin</th>\n",
       "    </tr>\n",
       "  </thead>\n",
       "  <tbody>\n",
       "    <tr>\n",
       "      <th>0</th>\n",
       "      <td>18.0</td>\n",
       "      <td>8</td>\n",
       "      <td>307.0</td>\n",
       "      <td>130.0</td>\n",
       "      <td>3504</td>\n",
       "      <td>12.0</td>\n",
       "      <td>1970</td>\n",
       "      <td>usa</td>\n",
       "    </tr>\n",
       "    <tr>\n",
       "      <th>1</th>\n",
       "      <td>15.0</td>\n",
       "      <td>8</td>\n",
       "      <td>350.0</td>\n",
       "      <td>165.0</td>\n",
       "      <td>3693</td>\n",
       "      <td>11.5</td>\n",
       "      <td>1970</td>\n",
       "      <td>usa</td>\n",
       "    </tr>\n",
       "    <tr>\n",
       "      <th>2</th>\n",
       "      <td>18.0</td>\n",
       "      <td>8</td>\n",
       "      <td>318.0</td>\n",
       "      <td>150.0</td>\n",
       "      <td>3436</td>\n",
       "      <td>11.0</td>\n",
       "      <td>1970</td>\n",
       "      <td>usa</td>\n",
       "    </tr>\n",
       "    <tr>\n",
       "      <th>3</th>\n",
       "      <td>16.0</td>\n",
       "      <td>8</td>\n",
       "      <td>304.0</td>\n",
       "      <td>150.0</td>\n",
       "      <td>3433</td>\n",
       "      <td>12.0</td>\n",
       "      <td>1970</td>\n",
       "      <td>usa</td>\n",
       "    </tr>\n",
       "    <tr>\n",
       "      <th>4</th>\n",
       "      <td>17.0</td>\n",
       "      <td>8</td>\n",
       "      <td>302.0</td>\n",
       "      <td>140.0</td>\n",
       "      <td>3449</td>\n",
       "      <td>10.5</td>\n",
       "      <td>1970</td>\n",
       "      <td>usa</td>\n",
       "    </tr>\n",
       "  </tbody>\n",
       "</table>\n",
       "</div>"
      ],
      "text/plain": [
       "    mpg  cylinders  displacement  horsepower  weight  acceleration  \\\n",
       "0  18.0          8         307.0       130.0    3504          12.0   \n",
       "1  15.0          8         350.0       165.0    3693          11.5   \n",
       "2  18.0          8         318.0       150.0    3436          11.0   \n",
       "3  16.0          8         304.0       150.0    3433          12.0   \n",
       "4  17.0          8         302.0       140.0    3449          10.5   \n",
       "\n",
       "   model_year origin  \n",
       "0        1970    usa  \n",
       "1        1970    usa  \n",
       "2        1970    usa  \n",
       "3        1970    usa  \n",
       "4        1970    usa  "
      ]
     },
     "execution_count": 88,
     "metadata": {},
     "output_type": "execute_result"
    }
   ],
   "source": [
    "df.head()"
   ]
  },
  {
   "cell_type": "code",
   "execution_count": 91,
   "id": "d3030f68-b088-40e2-a665-e881c2457b76",
   "metadata": {},
   "outputs": [
    {
     "data": {
      "image/png": "[encoded data removed]",
      "text/plain": [
       "<Figure size 1500x800 with 1 Axes>"
      ]
     },
     "metadata": {},
     "output_type": "display_data"
    }
   ],
   "source": [
    "# Visualize 'origin' distribution\n",
    "plt.figure(figsize=(15, 8))\n",
    "sns.countplot(x=\"origin\", data=df, palette=\"rainbow\")\n",
    "plt.title('Distribution of Vehicle Origin')\n",
    "plt.xlabel('Origin')\n",
    "plt.ylabel('Count')\n",
    "plt.show()\n"
   ]
  },
  {
   "cell_type": "code",
   "execution_count": 94,
   "id": "2f90a6b6-23fa-4985-ac1c-0e9077c830e9",
   "metadata": {},
   "outputs": [],
   "source": [
    "# USA is the most common origin for the vehicles in the dataset"
   ]
  },
  {
   "cell_type": "code",
   "execution_count": 96,
   "id": "8f9ef579-db4b-4eb0-ad19-d472d3fe29d4",
   "metadata": {},
   "outputs": [
    {
     "data": {
      "text/html": [
       "<div>\n",
       "<style scoped>\n",
       "    .dataframe tbody tr th:only-of-type {\n",
       "        vertical-align: middle;\n",
       "    }\n",
       "\n",
       "    .dataframe tbody tr th {\n",
       "        vertical-align: top;\n",
       "    }\n",
       "\n",
       "    .dataframe thead th {\n",
       "        text-align: right;\n",
       "    }\n",
       "</style>\n",
       "<table border=\"1\" class=\"dataframe\">\n",
       "  <thead>\n",
       "    <tr style=\"text-align: right;\">\n",
       "      <th></th>\n",
       "      <th>mpg</th>\n",
       "      <th>cylinders</th>\n",
       "      <th>displacement</th>\n",
       "      <th>horsepower</th>\n",
       "      <th>weight</th>\n",
       "      <th>acceleration</th>\n",
       "      <th>model_year</th>\n",
       "      <th>origin</th>\n",
       "    </tr>\n",
       "  </thead>\n",
       "  <tbody>\n",
       "    <tr>\n",
       "      <th>0</th>\n",
       "      <td>18.0</td>\n",
       "      <td>8</td>\n",
       "      <td>307.0</td>\n",
       "      <td>130.0</td>\n",
       "      <td>3504</td>\n",
       "      <td>12.0</td>\n",
       "      <td>1970</td>\n",
       "      <td>usa</td>\n",
       "    </tr>\n",
       "    <tr>\n",
       "      <th>1</th>\n",
       "      <td>15.0</td>\n",
       "      <td>8</td>\n",
       "      <td>350.0</td>\n",
       "      <td>165.0</td>\n",
       "      <td>3693</td>\n",
       "      <td>11.5</td>\n",
       "      <td>1970</td>\n",
       "      <td>usa</td>\n",
       "    </tr>\n",
       "    <tr>\n",
       "      <th>2</th>\n",
       "      <td>18.0</td>\n",
       "      <td>8</td>\n",
       "      <td>318.0</td>\n",
       "      <td>150.0</td>\n",
       "      <td>3436</td>\n",
       "      <td>11.0</td>\n",
       "      <td>1970</td>\n",
       "      <td>usa</td>\n",
       "    </tr>\n",
       "    <tr>\n",
       "      <th>3</th>\n",
       "      <td>16.0</td>\n",
       "      <td>8</td>\n",
       "      <td>304.0</td>\n",
       "      <td>150.0</td>\n",
       "      <td>3433</td>\n",
       "      <td>12.0</td>\n",
       "      <td>1970</td>\n",
       "      <td>usa</td>\n",
       "    </tr>\n",
       "    <tr>\n",
       "      <th>4</th>\n",
       "      <td>17.0</td>\n",
       "      <td>8</td>\n",
       "      <td>302.0</td>\n",
       "      <td>140.0</td>\n",
       "      <td>3449</td>\n",
       "      <td>10.5</td>\n",
       "      <td>1970</td>\n",
       "      <td>usa</td>\n",
       "    </tr>\n",
       "  </tbody>\n",
       "</table>\n",
       "</div>"
      ],
      "text/plain": [
       "    mpg  cylinders  displacement  horsepower  weight  acceleration  \\\n",
       "0  18.0          8         307.0       130.0    3504          12.0   \n",
       "1  15.0          8         350.0       165.0    3693          11.5   \n",
       "2  18.0          8         318.0       150.0    3436          11.0   \n",
       "3  16.0          8         304.0       150.0    3433          12.0   \n",
       "4  17.0          8         302.0       140.0    3449          10.5   \n",
       "\n",
       "   model_year origin  \n",
       "0        1970    usa  \n",
       "1        1970    usa  \n",
       "2        1970    usa  \n",
       "3        1970    usa  \n",
       "4        1970    usa  "
      ]
     },
     "execution_count": 96,
     "metadata": {},
     "output_type": "execute_result"
    }
   ],
   "source": [
    "df.head()"
   ]
  },
  {
   "cell_type": "code",
   "execution_count": null,
   "id": "4953b3d0-03ea-4fb0-abb1-2fb5fa025bf5",
   "metadata": {},
   "outputs": [],
   "source": []
  }
 ],
 "metadata": {
  "kernelspec": {
   "display_name": "Python 3 (ipykernel)",
   "language": "python",
   "name": "python3"
  },
  "language_info": {
   "codemirror_mode": {
    "name": "ipython",
    "version": 3
   },
   "file_extension": ".py",
   "mimetype": "text/x-python",
   "name": "python",
   "nbconvert_exporter": "python",
   "pygments_lexer": "ipython3",
   "version": "3.11.7"
  }
 },
 "nbformat": 4,
 "nbformat_minor": 5
}
